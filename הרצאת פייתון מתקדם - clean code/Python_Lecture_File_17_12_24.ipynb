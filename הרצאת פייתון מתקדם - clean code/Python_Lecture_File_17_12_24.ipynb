{
 "cells": [
  {
   "cell_type": "code",
   "execution_count": 2,
   "id": "38a1002f",
   "metadata": {},
   "outputs": [],
   "source": [
    "from dataclasses import dataclass\n",
    "import timeit\n",
    "import sys"
   ]
  },
  {
   "cell_type": "markdown",
   "id": "599e659d",
   "metadata": {},
   "source": [
    "# 1. Basic Python Review\n",
    "\n",
    "This section reviews Python basics, including arithmetic operations, working with lists, tuple, sets, and dictionaries."
   ]
  },
  {
   "cell_type": "markdown",
   "id": "a895c166",
   "metadata": {},
   "source": [
    "## Variables & Arithmetic operations"
   ]
  },
  {
   "cell_type": "code",
   "execution_count": 3,
   "id": "6b9c829a",
   "metadata": {},
   "outputs": [],
   "source": [
    "age = 30          # Integer\n",
    "price = 19.99     # Float\n",
    "message = \"Hello\" # String\n",
    "is_active = True  # Boolean\n",
    "numbers = [1,2,3] # List\n",
    "person = {'name':'John', 'city':'New York'} #Dictionary\n",
    "coordinates = (10.33, 50.86) #Tuple\n",
    "unique_number = {1,2,3} #Set"
   ]
  },
  {
   "cell_type": "code",
   "execution_count": 4,
   "id": "5404bce2",
   "metadata": {},
   "outputs": [],
   "source": [
    "a = 5\n",
    "b = 3"
   ]
  },
  {
   "cell_type": "code",
   "execution_count": 5,
   "id": "f2741618",
   "metadata": {},
   "outputs": [
    {
     "name": "stdout",
     "output_type": "stream",
     "text": [
      "Addition: 5 + 3 = 8\n",
      "Subtraction: 5 - 3 = 2\n",
      "Division: 5 / 3 = 1.67\n",
      "Integer Division: 5 // 3 = 1\n",
      "Exponentiation: 5 ** 3 = 125\n"
     ]
    }
   ],
   "source": [
    "print(f\"Addition: {a} + {b} = {a + b}\")\n",
    "print(f\"Subtraction: {a} - {b} = {a - b}\")\n",
    "print(f\"Division: {a} / {b} = {a / b:.2f}\")\n",
    "print(f\"Integer Division: {a} // {b} = {a // b}\")\n",
    "print(f\"Exponentiation: {a} ** {b} = {a ** b}\")"
   ]
  },
  {
   "cell_type": "code",
   "execution_count": 6,
   "id": "e86aea0e",
   "metadata": {},
   "outputs": [],
   "source": [
    "c = \"C\"\n",
    "d = \"D\""
   ]
  },
  {
   "cell_type": "code",
   "execution_count": 7,
   "id": "51f11488",
   "metadata": {},
   "outputs": [
    {
     "name": "stdout",
     "output_type": "stream",
     "text": [
      "CD\n",
      "CDDDDD\n"
     ]
    }
   ],
   "source": [
    "print(c+d)\n",
    "print(c+5*d)"
   ]
  },
  {
   "cell_type": "markdown",
   "id": "e86b0722",
   "metadata": {},
   "source": [
    "## 3. Control Flow (if, for, while)\n",
    "\n",
    "Control flow lets you decide which parts of your code should execute, and repeat certain blocks.\n",
    "\n",
    "*   **if/else:** Conditional execution based on a condition.\n",
    "*   **for loop:** Iterates over a sequence (like a list or a range of numbers).\n",
    "*   **while loop:**  Repeats a block as long as a condition is true."
   ]
  },
  {
   "cell_type": "code",
   "execution_count": 51,
   "id": "45f1d0b0",
   "metadata": {},
   "outputs": [
    {
     "name": "stdout",
     "output_type": "stream",
     "text": [
      "You are a minor.\n",
      "0\n",
      "1\n",
      "2\n",
      "3\n",
      "4\n",
      "Count: 0\n",
      "Count: 0.5\n",
      "Count: 1.0\n",
      "Count: 1.5\n",
      "Count: 2.0\n",
      "Count: 2.5\n",
      "Count: 3.0\n",
      "Count: 3.5\n",
      "Count: 4.0\n",
      "Count: 4.5\n"
     ]
    }
   ],
   "source": [
    "# if/elif/else\n",
    "age = 17.5\n",
    "if age >= 18:\n",
    "    print(\"You are an adult.\")\n",
    "elif age == 17:\n",
    "    print(\"You are almost an adult\")\n",
    "else:\n",
    "    print(\"You are a minor.\")\n",
    "\n",
    "\n",
    "# for loop\n",
    "for i in range(5):\n",
    "    print(i)\n",
    "\n",
    "\n",
    "# while loop\n",
    "count = 0\n",
    "while count < 5:\n",
    "    print(\"Count:\", count)\n",
    "    count += 0.5 #Increase count by 1"
   ]
  },
  {
   "cell_type": "markdown",
   "id": "3ab0ad79",
   "metadata": {},
   "source": [
    "## Lists\n",
    "A **list** is an ordered, mutable collection of elements. It allows duplicate elements and is ideal for storing collections where order matters and changes are expected."
   ]
  },
  {
   "cell_type": "code",
   "execution_count": 10,
   "id": "56c77ea1",
   "metadata": {},
   "outputs": [
    {
     "name": "stdout",
     "output_type": "stream",
     "text": [
      "Original List: [10, 20, 30, 40, 50, 30]\n",
      "After Append: [10, 20, 30, 40, 50, 30, 60]\n",
      "After Remove: [10, 20, 40, 50, 60]\n",
      "Slicing [1:4]: [10, 20, 40, 50]\n"
     ]
    }
   ],
   "source": [
    "# Lists creation\n",
    "my_list = [10, 20, 30, 40, 50,30]\n",
    "print(\"Original List:\", my_list)\n",
    "\n",
    "# Adding an element\n",
    "my_list.append(60)  \n",
    "print(\"After Append:\", my_list)\n",
    "\n",
    "# Removing an element\n",
    "my_list.remove(30)  \n",
    "my_list.remove(30)  \n",
    "print(\"After Remove:\", my_list)\n",
    "\n",
    "# Slicing\n",
    "print(\"Slicing [1:4]:\", my_list[0:4])"
   ]
  },
  {
   "cell_type": "markdown",
   "id": "3709beaa",
   "metadata": {},
   "source": [
    "#### Advantages of Lists:\n",
    "- Dynamic size (can grow or shrink).\n",
    "- Can store mixed data types.\n",
    "- Supports indexing and slicing."
   ]
  },
  {
   "cell_type": "code",
   "execution_count": 11,
   "id": "64f69d44",
   "metadata": {},
   "outputs": [
    {
     "name": "stdout",
     "output_type": "stream",
     "text": [
      "['4', 4, 'D', 0.314]\n"
     ]
    }
   ],
   "source": [
    "# Mixed data types\n",
    "mix_list = [\"4\", 4, \"D\", 0.314]\n",
    "print(mix_list)"
   ]
  },
  {
   "cell_type": "markdown",
   "id": "12861a28",
   "metadata": {},
   "source": [
    "## Tuples\n",
    "A **tuple** is an ordered, immutable collection of elements. It is used for data that should not change after creation.\n",
    "\n",
    "#### Advantages of Tuples:\n",
    "- Faster than lists (since they are immutable).\n",
    "- Safer for storing data that should not be modified.\n",
    "- Tuples use less memory"
   ]
  },
  {
   "cell_type": "code",
   "execution_count": 13,
   "id": "f46bde9e",
   "metadata": {},
   "outputs": [
    {
     "name": "stdout",
     "output_type": "stream",
     "text": [
      "Original Tuple: (10, 20, 30, 40, 50, 15)\n",
      "First Element: 10\n",
      "Slicing [1:4]: (20, 30, 40)\n"
     ]
    }
   ],
   "source": [
    "# Tuples: Immutable sequences\n",
    "my_tuple = (10, 20, 30, 40, 50, 15)\n",
    "print(\"Original Tuple:\", my_tuple)\n",
    "print(\"First Element:\", my_tuple[0])\n",
    "print(\"Slicing [1:4]:\", my_tuple[1:4])\n",
    "\n",
    "# Tuples are immutable, so the following line would raise an error if uncommented:\n",
    "# my_tuple[0] = 100"
   ]
  },
  {
   "cell_type": "code",
   "execution_count": 14,
   "id": "df438df7",
   "metadata": {},
   "outputs": [],
   "source": [
    "import timeit #measure execution time of small code snippets from preformance testing\n",
    "import sys"
   ]
  },
  {
   "cell_type": "code",
   "execution_count": 15,
   "id": "b47826b9",
   "metadata": {},
   "outputs": [
    {
     "name": "stdout",
     "output_type": "stream",
     "text": [
      "List creation time: 0.3278286997228861 seconds\n",
      "Tuple creation time: 0.10318779991939664 seconds\n"
     ]
    }
   ],
   "source": [
    "# Faster than lists - creating new list X times\n",
    "list_time = timeit.timeit(stmt=\"new_list=[1, 2, 3, 4, 5, 6, 7, 8, 9]\", number=10_000_000)\n",
    "tuple_time = timeit.timeit(stmt=\"new_tuple=(1, 2, 3, 4, 5, 6, 7, 8, 9)\", number=10_000_000)\n",
    "print(\"List creation time:\", list_time, \"seconds\")\n",
    "print(\"Tuple creation time:\", tuple_time, \"seconds\")"
   ]
  },
  {
   "cell_type": "code",
   "execution_count": 16,
   "id": "02d8f5e6",
   "metadata": {},
   "outputs": [
    {
     "name": "stdout",
     "output_type": "stream",
     "text": [
      "List memory bi size: 88 bytes\n",
      "Tuple memory size: 64 bytes\n"
     ]
    }
   ],
   "source": [
    "# Immutability (Performance and Safety)\n",
    "list_data = [1, 2, 3]\n",
    "tuple_data = (1, 2, 3)\n",
    "\n",
    "# Lists can be modified\n",
    "list_data[0] = 10  # This works\n",
    "# tuple_data[0] = 10 # This would raise a TypeError\n",
    "\n",
    "# Tuples use less memory\n",
    "print(f\"List memory bi size: {sys.getsizeof(list_data)} bytes\")\n",
    "print(f\"Tuple memory size: {sys.getsizeof(tuple_data)} bytes\")"
   ]
  },
  {
   "cell_type": "markdown",
   "id": "a6e8402e",
   "metadata": {},
   "source": [
    "## Sets\n",
    "A **set** is an unordered collection of unique elements. It is useful for storing data where duplicates are not allowed.\n",
    "\n",
    "\n",
    "#### Advantages of Sets:\n",
    "- Automatically removes duplicate values.\n",
    "- Supports set operations like union, intersection, and difference.\n",
    "- Fast membership testing (`in` operator)."
   ]
  },
  {
   "cell_type": "code",
   "execution_count": 52,
   "id": "ea791b56",
   "metadata": {},
   "outputs": [
    {
     "name": "stdout",
     "output_type": "stream",
     "text": [
      "Set A: {1, 2, 3, 4}\n",
      "Set B: {3, 4, 5, 6}\n",
      "Union: {1, 2, 3, 4, 5, 6}\n",
      "Intersection: {3, 4}\n",
      "Difference (A - B): {1, 2}\n"
     ]
    }
   ],
   "source": [
    "# Sets: Union, intersection, and difference\n",
    "set_a = {1, 2, 3, 4}\n",
    "set_b = {3, 4, 5, 5, 6}\n",
    "set_c = {3, 4, 5, 6.53, \"6\"}\n",
    "\n",
    "print(\"Set A:\", set_a)\n",
    "print(\"Set B:\", set_b)\n",
    "print(\"Union:\", set_a | set_b)\n",
    "print(\"Intersection:\", set_a & set_b)\n",
    "print(\"Difference (A - B):\", set_a - set_b)"
   ]
  },
  {
   "cell_type": "markdown",
   "id": "c7afa941",
   "metadata": {},
   "source": [
    "## Dictionaries\n",
    "A **dictionary** is an unordered collection of key-value pairs. It is used for storing data where each key maps to a specific value.\n",
    "\n",
    "#### Advantages of Dictionaries:\n",
    "- Fast lookups by key.\n",
    "- Keys are unique, ensuring no duplication.\n",
    "- Flexible: keys can be strings, numbers, or even tuples."
   ]
  },
  {
   "cell_type": "code",
   "execution_count": 19,
   "id": "8383e24a",
   "metadata": {},
   "outputs": [
    {
     "name": "stdout",
     "output_type": "stream",
     "text": [
      "Dictionary: {'name': 'Python', 'type': 'Programming Language', 'year': 1991}\n",
      "Updated Dictionary: {'name': 'Python', 'type': 'Dynamic Language', 'year': 1991}\n",
      "Extended Dictionary: {'name': 'Python', 'type': 'Dynamic Language', 'year': 1991, 'creator': 'Guido van Rossum'}\n"
     ]
    }
   ],
   "source": [
    "# Dictionaries: Accessing and updating values\n",
    "my_dict = {\"name\": \"Python\", \"type\": \"Programming Language\", \"year\": 1991}\n",
    "print(\"Dictionary:\", my_dict)\n",
    "\n",
    "# Updating a value\n",
    "my_dict[\"type\"] = \"Dynamic Language\"  \n",
    "print(\"Updated Dictionary:\", my_dict)\n",
    "\n",
    "# Adding a new key-value pair\n",
    "my_dict[\"creator\"] = \"Guido van Rossum\"\n",
    "print(\"Extended Dictionary:\", my_dict)"
   ]
  },
  {
   "cell_type": "markdown",
   "id": "8d9e28bf",
   "metadata": {},
   "source": [
    "# 2. Clean code -  Google Style Guide & PEP8\n",
    "\n",
    "This section explains the importance of coding standards, focusing on the Google Python Style Guide and PEP8. \n",
    "- Readability \n",
    "- Consistency\n",
    "- Maintainability"
   ]
  },
  {
   "cell_type": "markdown",
   "id": "4dd376b3",
   "metadata": {},
   "source": [
    "## pep8 - Python Enhancement Proposal\n",
    "created in Jul-2001 by Guido van Rossum\n",
    "\n",
    "docs - https://peps.python.org/pep-0008/\n",
    "\n",
    "song - https://www.youtube.com/watch?v=hgI0p1zf31k"
   ]
  },
  {
   "cell_type": "markdown",
   "id": "22154894",
   "metadata": {},
   "source": [
    "### Naming Style\n",
    "\n",
    "#### variable - Use lowercase, separate words with an underscore\n",
    "```python\n",
    "var_x = 3\n",
    "```\n",
    "\n",
    "#### Constant - Use uppercase, separate words with an underscore\n",
    "```python\n",
    "DATABASE_PATH = r'path_to\\database\\that_will_not\\change_in_)the_code.db'\n",
    "```\n",
    "\n",
    "#### Function - Use lowercase, separate words with under \n",
    "```python\n",
    "def some_function():\n",
    "    pass\n",
    "```\n",
    "#### Class - Start each work with a capital case letter, Don't separate with an underscore - PascalCase\n",
    "\n",
    "```python\n",
    "class PythonClass()\n",
    "    pass\n",
    "```\n",
    "\n",
    "#### Method - use lowercase, separate words with an underscore"
   ]
  },
  {
   "cell_type": "markdown",
   "id": "3de0a0b3",
   "metadata": {},
   "source": [
    "![image.png](naming_style.png)"
   ]
  },
  {
   "cell_type": "markdown",
   "id": "8ddfceb0",
   "metadata": {},
   "source": [
    "### Indentation - tabs vs 4 spaces - (I use tabs) - be consistent, never mix tabs and spaces\n",
    "the indentation level of line if code in Python determines how Python groups statements together\n",
    "while Python code will work with any amount of consistent indentation.\n",
    "#### Correct:\n",
    "```python\n",
    "def great(name):\n",
    "    if name:\n",
    "        print(f\"Hello {name}!\")\n",
    "    else:\n",
    "        print(\"Hello world?\")\n",
    "```\n",
    "#### Wrong:\n",
    "```python\n",
    "def great(name):\n",
    "     if name: print(f\"Hello {name}!\")\n",
    " else:\n",
    "     print(\"Hello world?\")\n",
    "```"
   ]
  },
  {
   "cell_type": "markdown",
   "id": "3d28c318",
   "metadata": {},
   "source": [
    "### Imports - wildcard import should be avoided \n",
    "\n",
    "#### Correct:\n",
    "```python\n",
    "import pandas as pd\n",
    "import numpt as np\n",
    "\n",
    "df = pd.DataFrame(data=[[1,2,3],['a','b','c']])\n",
    "np.DataFrame\n",
    "```\n",
    "\n",
    "#### Wrong:\n",
    "```python\n",
    "from pandas import *\n",
    "\n",
    "df = DataFrame(data=[[1,2,3],['a','b','c']])\n",
    "```\n",
    "\n",
    "\n",
    "### Import should usually be on separate lines\n",
    "#### Correct:\n",
    "```python\n",
    "import os\n",
    "import sys\n",
    "```\n",
    "\n",
    "#### Wrong:\n",
    "```python\n",
    "import os, sys\n",
    "```\n",
    "\n",
    "However, it's okay to write:\n",
    "#### Correct:\n",
    "```python\n",
    "from package import func1, func2\n",
    "```"
   ]
  },
  {
   "cell_type": "markdown",
   "id": "0ef4e606",
   "metadata": {},
   "source": [
    "### Trailing comma - git tightness\n",
    "\n",
    "#### Correct:\n",
    "```python\n",
    "my_list = [\n",
    "        file1_1,\n",
    "        file1_2,\n",
    "        file1_3,\n",
    "        file1_4,\n",
    "        file1_5\n",
    "]\n",
    "```\n",
    "\n",
    "#### Also Correct:\n",
    "```python\n",
    "my_list = [\n",
    "        file1_1,\n",
    "        file1_2,\n",
    "        file1_3,\n",
    "        file1_4,\n",
    "        file1_5,\n",
    "]\n",
    "```\n",
    "\n",
    "#### Wrong:\n",
    "```python\n",
    "my_list = [\n",
    "        file1_1,\n",
    "        file1_2,\n",
    "        file1_3,\n",
    "        file1_4,\n",
    "        file1_5,]\n",
    "```"
   ]
  },
  {
   "cell_type": "markdown",
   "id": "09abb0aa",
   "metadata": {},
   "source": [
    "### bare exception - try to be spesifice\n",
    "\n",
    "A bare exception (using except: without specifying an exception type) is considered bad practice because:\n",
    "\n",
    "1. will catch exceptions you almost certainly don't want to catch (like SystemExit)\n",
    "2. It can mask genuine programming errors.\n",
    "3. It makes debugging and finding problems more difficult.\n",
    "\n",
    "spesifice exception also Improves code clarity"
   ]
  },
  {
   "cell_type": "code",
   "execution_count": 20,
   "id": "d3756677",
   "metadata": {},
   "outputs": [],
   "source": [
    "# Bad Practice: Bare Exception Handling\n",
    "def read_file_bad():\n",
    "    try:\n",
    "        file = open('nonexistent.txt', 'r')\n",
    "        content = file.read()\n",
    "        return content\n",
    "    except:  # Bare exception - catches EVERYTHING\n",
    "        print(\"Something went wrong while reading the file\")\n",
    "\n",
    "# Good Practice: Specific Exception Handling\n",
    "def read_file_good():\n",
    "    try:\n",
    "        file = open('nonexistent.txt', 'r')\n",
    "        content = file.read()\n",
    "        return content\n",
    "    except FileNotFoundError:\n",
    "        print(\"The file does not exist\")\n",
    "    except PermissionError:\n",
    "        print(\"No permission to read the file\")\n",
    "    except IOError as e:\n",
    "        print(f\"An I/O error occurred: {e}\")"
   ]
  },
  {
   "cell_type": "markdown",
   "id": "635b7100",
   "metadata": {},
   "source": [
    "## google style guide \n",
    " docs - https://google.github.io/styleguide/pyguide.html"
   ]
  },
  {
   "cell_type": "markdown",
   "id": "9ab49d8a",
   "metadata": {},
   "source": [
    "\n",
    "if a file is meant to be used as executable, it'a main funcionality should be in *main()*\n",
    "```python\n",
    "def main():\n",
    "        ...\n",
    "\n",
    "if __name__ == '__main__':\n",
    "        main()\n",
    "]"
   ]
  },
  {
   "cell_type": "markdown",
   "id": "155bc532",
   "metadata": {},
   "source": [
    "### Comment for function and methods\n",
    "A docstring is mandatory for every function that has one or more of the following properties:\n",
    "* being part of the public API\n",
    "* nontrivial size\n",
    "* non-obvious logic\n",
    "\n",
    "\n",
    "A docstring should give enough information to write a call to the function without reading the function code\n",
    "Use triple Quotes\n",
    "Structure:\n",
    "* A short summary of the object's purpose\n",
    "* A more detailed explanation (optional)\n",
    "* argument, return values (if applicable), and Raises exceptions"
   ]
  },
  {
   "cell_type": "code",
   "execution_count": 21,
   "id": "b0e71270",
   "metadata": {},
   "outputs": [],
   "source": [
    "# docsting according to google style guide\n",
    "def calculate_area(length, width):\n",
    "    \"\"\"\n",
    "    Calculate the area of a rectangle.\n",
    "\n",
    "    Args:\n",
    "        length (float): The length of the rectangle.\n",
    "        width (float): The width of the rectangle.\n",
    "\n",
    "    Returns:\n",
    "        float: The calculated area of the rectangle.\n",
    "\n",
    "    Example:\n",
    "        >>> calculate_area(5, 3)\n",
    "        15.0\n",
    "    \"\"\"\n",
    "    return length * width"
   ]
  },
  {
   "cell_type": "code",
   "execution_count": 22,
   "id": "cfc91855",
   "metadata": {},
   "outputs": [],
   "source": [
    "# docstring with informating one line\n",
    "def calculate_area(length, width):\n",
    "    \"\"\"Calculate the area of a rectangle by multiplying length and width.\"\"\"\n",
    "    return length * width"
   ]
  },
  {
   "cell_type": "code",
   "execution_count": 23,
   "id": "7ecac8c8",
   "metadata": {},
   "outputs": [],
   "source": [
    "# type hint for self-describing function\n",
    "def calculate_area(length: float, width: float) -> float:\n",
    "    return length * width"
   ]
  },
  {
   "cell_type": "markdown",
   "id": "4bdbf98a",
   "metadata": {},
   "source": [
    "### Type Annotation\n",
    "\n",
    "* allows developers to specify the data types of variables, function arguments, and return values.\n",
    "* It provides hints to make the code easier to understand, \n",
    "* helps tools like linters and type checkers"
   ]
  },
  {
   "cell_type": "code",
   "execution_count": 24,
   "id": "e91bb14b",
   "metadata": {},
   "outputs": [],
   "source": [
    "def greet(name: str) -> str:\n",
    "    return f\"Hello, {name}!\""
   ]
  },
  {
   "cell_type": "code",
   "execution_count": 25,
   "id": "ad1c20ee",
   "metadata": {},
   "outputs": [],
   "source": [
    "def add(a: int, b: int) -> int:\n",
    "    return a + b"
   ]
  },
  {
   "cell_type": "code",
   "execution_count": 28,
   "id": "109be969",
   "metadata": {},
   "outputs": [],
   "source": [
    "from typing import Optional\n",
    "\n",
    "def get_name(id: int) -> Optional[str]:\n",
    "    if id == 1:\n",
    "        return \"Alice\"\n",
    "    return None\n",
    "\n",
    "def get_name(id):\n",
    "    if id == 1:\n",
    "        return \"Alice\"\n",
    "    return None"
   ]
  },
  {
   "cell_type": "markdown",
   "id": "d2b02b57",
   "metadata": {},
   "source": [
    "### Short line - maximum 79 characters\n",
    "to avoid using the horizontal scroll bar\n",
    "split long line with \"\\\"\n",
    "\n",
    "```python\n",
    "from package import example1, example2\\\n",
    " example3, example4, example5\n",
    "```\n",
    "\n",
    "no need for a line around binary operators like + or *\n",
    "```python\n",
    "total = (first_ver\n",
    " + second_var\n",
    " - third_var)\n",
    "```"
   ]
  },
  {
   "cell_type": "markdown",
   "id": "748facb7",
   "metadata": {},
   "source": [
    "# 3. Introduction to Classes (OOP)\n",
    " \n",
    " Classes in Python provide a way to bundle data and functionality together.\n",
    " Creating custom objects that can represent real-world entities with their attribute and behaviors.\n",
    "\n",
    " Principles of object-oriented programming:\n",
    "\n",
    "- Encapsulation: well-defined bundling data and methods that operate on data within a single unit.\n",
    "- Abstraction: simplifying complex systems by modeling classes based on essential properties\n",
    "- modularity: breaking down software into independent, interchangeable modules. \n",
    "- Inheritance - the ability to extend functionality to related object\n",
    "\n",
    "OOP is the contrast of Functional Programming (FP)"
   ]
  },
  {
   "cell_type": "markdown",
   "id": "ae8f7bcb",
   "metadata": {},
   "source": [
    "### Normal class - behavior focused\n",
    "\n",
    "- about grouping behavior and methods that belong together\n",
    "- do use inheritance carefully, don't use deep hierarchies of classes inheriting from other classes.\n",
    "- manually define \"__init__\" method\n",
    "- full control of object creation"
   ]
  },
  {
   "cell_type": "code",
   "execution_count": 29,
   "id": "20c0a3f3",
   "metadata": {},
   "outputs": [
    {
     "name": "stdout",
     "output_type": "stream",
     "text": [
      "Duck says Quack\n",
      "Buddy says Woof\n",
      "Buddy is a Golden Retriever\n"
     ]
    }
   ],
   "source": [
    "class Animal:\n",
    "    def __init__(self, name, sound):\n",
    "        self.name = name\n",
    "        self.sound = sound\n",
    "\n",
    "    def make_sound(self):\n",
    "        return f\"{self.name} says {self.sound}\"\n",
    "\n",
    "# Inheritance: Creating a subclass\n",
    "class Dog(Animal):\n",
    "    def __init__(self, name, sound, breed):\n",
    "        super().__init__(name, sound)\n",
    "        self.breed = breed\n",
    "\n",
    "    def get_breed(self):\n",
    "        return f\"{self.name} is a {self.breed}\"\n",
    "\n",
    "# Create instances\n",
    "duck = Animal(\"Duck\", \"Quack\")\n",
    "dog = Dog(\"Buddy\", \"Woof\", \"Golden Retriever\")\n",
    "\n",
    "print(duck.make_sound())\n",
    "print(dog.make_sound())\n",
    "print(dog.get_breed())"
   ]
  },
  {
   "cell_type": "markdown",
   "id": "0596e96b",
   "metadata": {},
   "source": [
    "### Data class - data focused\n",
    "\n",
    "- structured object information\n",
    "- using methods \n",
    "- using property decorator - access methods like instance variable (without the parenthesis) - compute the value on the fly.\n",
    "- automatically generate __init_, __repr, __equl__ methods\n",
    "- quick to create\n",
    "- introduced in python 3.7"
   ]
  },
  {
   "cell_type": "code",
   "execution_count": 30,
   "id": "5e3525a8",
   "metadata": {},
   "outputs": [],
   "source": [
    "from dataclasses import dataclass\n",
    "\n",
    "@dataclass\n",
    "class Person:\n",
    "    id_number: int \n",
    "    name: str\n",
    "    age: int\n",
    "    height: float\n",
    "    weight: float\n",
    "    phone_number: str = None\n",
    "\n",
    "    def __str__(self) -> str:\n",
    "        return f\"name: {self.name}, age: {self.age}, phone_number: {self.phone_number}\" \n",
    "\n",
    "    def split_name(self) -> tuple[str, str]:\n",
    "        first_name, last_name = self.name.split(\" \")\n",
    "        return first_name, last_name\n",
    "\n",
    "    @property\n",
    "    def bmi(self) -> float:\n",
    "        return round(self.weight / ((self.height/100)**2),3)"
   ]
  },
  {
   "cell_type": "code",
   "execution_count": 31,
   "id": "ba61ea90",
   "metadata": {},
   "outputs": [
    {
     "name": "stdout",
     "output_type": "stream",
     "text": [
      "name: Jhon Doe, age: 33, phone_number: None\n",
      "Jhon Doe\n",
      "('Jhon', 'Doe')\n",
      "29.101\n"
     ]
    }
   ],
   "source": [
    "person1 = Person(\n",
    "    id_number= 236354233,\n",
    "    name = \"Jhon Doe\",\n",
    "    age = 33,\n",
    "    height = 170.3,\n",
    "\n",
    "    weight = 84.4,\n",
    "    # phone_number = \"052-8956565\"\n",
    ")\n",
    "\n",
    "print(person1)\n",
    "print(person1.name)\n",
    "print(person1.split_name())\n",
    "print(person1.bmi)"
   ]
  },
  {
   "cell_type": "markdown",
   "id": "fdf2801a",
   "metadata": {},
   "source": [
    "### key differences:\n",
    "1. Initialization: Manual vs. automatic\n",
    "2. Type hinting: more natural in data classes\n",
    "3. Use case: Complex behaviors Vs simple data storage."
   ]
  },
  {
   "cell_type": "markdown",
   "id": "d22694bb",
   "metadata": {},
   "source": [
    "# 4. Code Refactoring - אנליזה טורס"
   ]
  },
  {
   "cell_type": "markdown",
   "id": "dbecc4a7",
   "metadata": {},
   "source": [
    "## Example 1: Simplifying Complex Conditional Logic\n",
    "\n",
    "In this example, we'll demonstrate how to refactor code with nested conditionals and repeated logic into a cleaner and maintainable solution."
   ]
  },
  {
   "cell_type": "markdown",
   "id": "06b0e465",
   "metadata": {},
   "source": [
    "### Bad Code: Complex and Hard to Read"
   ]
  },
  {
   "cell_type": "code",
   "execution_count": 32,
   "id": "c81a9260",
   "metadata": {},
   "outputs": [],
   "source": [
    "def flight_discount(price, customer_type):\n",
    "    discount = 0\n",
    "    if customer_type == 'premium gold':\n",
    "        discount = price * 0.4\n",
    "    elif customer_type == 'premium silver':\n",
    "        discount = price * 0.35\n",
    "    elif customer_type == 'premium':\n",
    "        discount = price * 0.3\n",
    "    elif customer_type == 'regular':\n",
    "        discount = price * 0.2\n",
    "    else:\n",
    "        discount = price * 0.15\n",
    "    return price - discount"
   ]
  },
  {
   "cell_type": "code",
   "execution_count": 33,
   "id": "0d92ae55",
   "metadata": {},
   "outputs": [
    {
     "data": {
      "text/plain": [
       "650.0"
      ]
     },
     "execution_count": 33,
     "metadata": {},
     "output_type": "execute_result"
    }
   ],
   "source": [
    "flight_discount(1000, 'premium silver')"
   ]
  },
  {
   "cell_type": "markdown",
   "id": "e203346a",
   "metadata": {},
   "source": [
    "### Refactored Code: Clean and Maintainable"
   ]
  },
  {
   "cell_type": "code",
   "execution_count": 34,
   "id": "47107ff8",
   "metadata": {},
   "outputs": [],
   "source": [
    "DISCOUNT_RATES = {\n",
    "    'premium gold': 0.4,\n",
    "    'premium silver': 0.35,\n",
    "    'premium': 0.3,\n",
    "    'regular': 0.1,\n",
    "    'standard': 0.5\n",
    "}\n",
    "\n",
    "def flight_discount_refactor(price, customer_type):\n",
    "    discount_rate = DISCOUNT_RATES.get(customer_type)\n",
    "    return price * (1 - discount_rate)"
   ]
  },
  {
   "cell_type": "code",
   "execution_count": 35,
   "id": "5a3a5c9e",
   "metadata": {},
   "outputs": [
    {
     "data": {
      "text/plain": [
       "650.0"
      ]
     },
     "execution_count": 35,
     "metadata": {},
     "output_type": "execute_result"
    }
   ],
   "source": [
    "flight_discount_refactor(1000, 'premium silver')"
   ]
  },
  {
   "cell_type": "markdown",
   "id": "539efb38",
   "metadata": {},
   "source": [
    "## Example 2: Using list comprehension\n",
    "\n",
    "List comprehension offers a shorter syntax when you want to create a new list based on the values of an existing list\n"
   ]
  },
  {
   "cell_type": "markdown",
   "id": "ed0154b5",
   "metadata": {},
   "source": [
    "#### syntax\n",
    "```python\n",
    "newlist = [expression for member in iterable if condition]\n",
    "\n",
    "newlist = [true_expression if condition else  false_expression for member in iterable if condition]\n"
   ]
  },
  {
   "cell_type": "markdown",
   "id": "898171cf",
   "metadata": {},
   "source": [
    "### Bad Code"
   ]
  },
  {
   "cell_type": "code",
   "execution_count": 36,
   "id": "91a5a911",
   "metadata": {},
   "outputs": [
    {
     "name": "stdout",
     "output_type": "stream",
     "text": [
      "Even Squared Numbers (Before Refactoring): [4, 16]\n"
     ]
    }
   ],
   "source": [
    "data = [1, 2, 3, 4, 5]\n",
    "result = []\n",
    "for num in data:\n",
    "    if num % 2 == 0:\n",
    "        result.append(num ** 2)\n",
    "\n",
    "print(\"Even Squared Numbers (Before Refactoring):\", result)"
   ]
  },
  {
   "cell_type": "markdown",
   "id": "c1ee1bc7",
   "metadata": {},
   "source": [
    "### Refactored Code:"
   ]
  },
  {
   "cell_type": "code",
   "execution_count": 37,
   "id": "29805c66",
   "metadata": {},
   "outputs": [
    {
     "name": "stdout",
     "output_type": "stream",
     "text": [
      "Even Squared Numbers (After Refactoring): [4, 16]\n"
     ]
    }
   ],
   "source": [
    "result = [num ** 2 for num in data if num % 2 == 0]\n",
    "print(\"Even Squared Numbers (After Refactoring):\", result)"
   ]
  },
  {
   "cell_type": "code",
   "execution_count": 38,
   "id": "d022c234",
   "metadata": {},
   "outputs": [
    {
     "name": "stdout",
     "output_type": "stream",
     "text": [
      "Even Squared Numbers (After Refactoring): [2, 4, 36]\n"
     ]
    }
   ],
   "source": [
    "\n",
    "data = [1, 2, 3, 4, 5,6,7]\n",
    "result = [num ** 2 if num>4 else num for num in data if num % 2 == 0]\n",
    "print(\"Even Squared Numbers (After Refactoring):\", result)"
   ]
  },
  {
   "cell_type": "markdown",
   "id": "28b390ec",
   "metadata": {},
   "source": [
    "## Example 3: Splitting complex method\n",
    "\n",
    "A complicated function should be split into multiple smaller functions with a single responsibility."
   ]
  },
  {
   "cell_type": "markdown",
   "id": "c3fff5bd",
   "metadata": {},
   "source": [
    "### Bad Code: Monolithic Method"
   ]
  },
  {
   "cell_type": "code",
   "execution_count": 39,
   "id": "0f48fb47",
   "metadata": {},
   "outputs": [],
   "source": [
    "def process_user_data(users):\n",
    "    valid_users = []\n",
    "    for user in users:\n",
    "        if user['age'] >= 18:\n",
    "            # Validate email\n",
    "            if '@' in user['email'] and '.' in user['email']:\n",
    "                # Calculate points\n",
    "                points = 0\n",
    "                if user['is_premium']:\n",
    "                    points += 100\n",
    "                if user['total_purchases'] > 1000:\n",
    "                    points += 50\n",
    "                \n",
    "                # Format user data\n",
    "                formatted_user = {\n",
    "                    'name': user['name'].title(),\n",
    "                    'email': user['email'].lower(),\n",
    "                    'points': points\n",
    "                }\n",
    "                valid_users.append(formatted_user)\n",
    "    \n",
    "    return valid_users"
   ]
  },
  {
   "cell_type": "markdown",
   "id": "5e6840fc",
   "metadata": {},
   "source": [
    "### Refactored Code: Single Responsibility and Modularity"
   ]
  },
  {
   "cell_type": "code",
   "execution_count": 40,
   "id": "d29f1183",
   "metadata": {},
   "outputs": [],
   "source": [
    "def is_valid_age(user):\n",
    "    return user['age'] >= 18\n",
    "\n",
    "def is_valid_email(email):\n",
    "    return '@' in email and '.' in email\n",
    "\n",
    "def calculate_user_points(user):\n",
    "    points = 0\n",
    "    if user['is_premium']:\n",
    "        points += 100\n",
    "    if user['total_purchases'] > 1000:\n",
    "        points += 50\n",
    "    return points\n",
    "\n",
    "def format_user(user, points):\n",
    "    return {\n",
    "        'name': user['name'].title(),\n",
    "        'email': user['email'].lower(),\n",
    "        'points': points\n",
    "    }\n",
    "\n",
    "def process_user_data(users):\n",
    "    valid_users = []\n",
    "    for user in users:\n",
    "        if is_valid_age(user) and is_valid_email(user['email']):\n",
    "            points = calculate_user_points(user)\n",
    "            valid_users.append(format_user(user, points))\n",
    "    \n",
    "    return valid_users"
   ]
  },
  {
   "cell_type": "markdown",
   "id": "71a844af",
   "metadata": {},
   "source": [
    "## Example 4: Walrus Operator - assignment expression\n",
    "\n",
    "#### Syntext\n",
    "```python\n",
    "expression := expression\n",
    "```\n",
    "\n",
    "- python's walrus operator (:=) allows you to assign value to variables as part of an expression.\n",
    "- assignment and evaluation in a single statement\n",
    "- make the code shorter, concise, and more readable\n"
   ]
  },
  {
   "cell_type": "markdown",
   "id": "1bebcc6e",
   "metadata": {},
   "source": [
    "#### example 1"
   ]
  },
  {
   "cell_type": "code",
   "execution_count": 41,
   "id": "5fc14598",
   "metadata": {},
   "outputs": [],
   "source": [
    "# without walrus\n",
    "while True:\n",
    "    value = input(\"Enter a number (or 'stop' to quit): \").lower()\n",
    "    if value == 'stop':\n",
    "        break\n",
    "    if value.isdigit():\n",
    "        number = int(value)\n",
    "    if number % 2 ==0:\n",
    "        print(f\"even number!: {value}\")"
   ]
  },
  {
   "cell_type": "code",
   "execution_count": 42,
   "id": "1f6b0878",
   "metadata": {},
   "outputs": [],
   "source": [
    "# with walrus\n",
    "while (value := input(\"Enter a number (or 'stop' to quit): \").lower()) != 'stop':\n",
    "    if value.isdigit() and int(value) % 2 ==0:\n",
    "        print(f\"even number!: {value}\")"
   ]
  },
  {
   "cell_type": "markdown",
   "id": "3a2ed036",
   "metadata": {},
   "source": [
    "#### example 2"
   ]
  },
  {
   "cell_type": "code",
   "execution_count": 43,
   "id": "b5cf81ab",
   "metadata": {},
   "outputs": [],
   "source": [
    "flights = {\n",
    "    \"JFK\": (899,30), \n",
    "    \"LAX\": (600, 100),\n",
    "    \"VIN\": (150, 30),\n",
    "    \"AUA\": (190, 0),\n",
    "    \"AMS\": (400, 100),\n",
    "}"
   ]
  },
  {
   "cell_type": "code",
   "execution_count": 44,
   "id": "326e31ef",
   "metadata": {},
   "outputs": [
    {
     "data": {
      "text/plain": [
       "dict_items([('JFK', (899, 30)), ('LAX', (600, 100)), ('VIN', (150, 30)), ('AUA', (190, 0)), ('AMS', (400, 100))])"
      ]
     },
     "execution_count": 44,
     "metadata": {},
     "output_type": "execute_result"
    }
   ],
   "source": [
    "flights.items()"
   ]
  },
  {
   "cell_type": "code",
   "execution_count": 45,
   "id": "819f86a7",
   "metadata": {},
   "outputs": [
    {
     "name": "stdout",
     "output_type": "stream",
     "text": [
      "Affordable flight: VIN in price: 180\n",
      "Affordable flight: AUA in price: 190\n"
     ]
    }
   ],
   "source": [
    "for airport, (flight_price, airport_tax) in flights.items():\n",
    "    if flight_price + airport_tax <= 199:\n",
    "        total_price = flight_price + airport_tax\n",
    "        print(f\"Affordable flight: {airport} in price: {total_price}\")\n"
   ]
  },
  {
   "cell_type": "code",
   "execution_count": 46,
   "id": "4dc306e4",
   "metadata": {},
   "outputs": [
    {
     "name": "stdout",
     "output_type": "stream",
     "text": [
      "Affordable flight: VIN in price: 180\n",
      "Affordable flight: AUA in price: 190\n"
     ]
    }
   ],
   "source": [
    "for airport, (flight_price, airport_tax) in flights.items():\n",
    "    if (total_price := flight_price + airport_tax) <= 199:\n",
    "        print(f\"Affordable flight: {airport} in price: {total_price}\")"
   ]
  },
  {
   "cell_type": "markdown",
   "id": "cd3a492d",
   "metadata": {},
   "source": [
    "## Refactoring Principles Demonstrated\n",
    "\n",
    "1. **Simplify Complexity**: Use data structures and built-in methods to reduce conditional logic\n",
    "2. **Single Responsibility Principle**: Break down large methods into smaller, focused functions\n",
    "3. **DRY (Don't Repeat Yourself)**: Use decorators and helper functions to remove code duplication\n",
    "4. **Improve Readability**: Make code more intuitive and easier to understand\n",
    "5. **Enhance Maintainability**: Create code that is easier to modify and extend"
   ]
  },
  {
   "cell_type": "markdown",
   "id": "9f4ac5dd",
   "metadata": {},
   "source": [
    "# The Zen Of Python"
   ]
  },
  {
   "cell_type": "code",
   "execution_count": 47,
   "id": "7c4eb0f1",
   "metadata": {},
   "outputs": [],
   "source": [
    "import this"
   ]
  }
 ],
 "metadata": {
  "kernelspec": {
   "display_name": "Python 3",
   "language": "python",
   "name": "python3"
  },
  "language_info": {
   "codemirror_mode": {
    "name": "ipython",
    "version": 3
   },
   "file_extension": ".py",
   "mimetype": "text/x-python",
   "name": "python",
   "nbconvert_exporter": "python",
   "pygments_lexer": "ipython3",
   "version": "3.11.7"
  }
 },
 "nbformat": 4,
 "nbformat_minor": 5
}
